{
  "nbformat": 4,
  "nbformat_minor": 0,
  "metadata": {
    "colab": {
      "provenance": []
    },
    "kernelspec": {
      "name": "python3",
      "display_name": "Python 3"
    }
  },
  "cells": [
    {
      "cell_type": "markdown",
      "source": [
        "#**Multiclass Logistic Regression**\n",
        "\n",
        "The goal of this exercise was to build a classifier for a multi-class scenario. The addressed problem was the identification of human activities using smartphone data, from a dataset containing attributes in the time and frequency domains extracted from accelerometer and gyroscope signals of a smartphone. The labels of the samples indicate the performed activity at a given moment.\n",
        "\n",
        "The dataset was previously divided into 7352 training samples and 2947 test samples, with each sample described by 561 temporal or spectral attributes. For this dataset, the labels are divided into 6 classes.\n"
      ],
      "metadata": {
        "id": "aH23Oo31dPrr"
      }
    },
    {
      "cell_type": "markdown",
      "metadata": {
        "id": "eu8mT5nm6hEW"
      },
      "source": [
        "##**Import libraries**"
      ]
    },
    {
      "cell_type": "code",
      "metadata": {
        "id": "OPSsSTq37pCE",
        "outputId": "c25d655d-b8b4-4222-8d06-f4090a679350",
        "colab": {
          "base_uri": "https://localhost:8080/"
        }
      },
      "source": [
        "#-------------------------------------------------------------------#\n",
        "#                       Import libraries                            #\n",
        "#-------------------------------------------------------------------#\n",
        "import pandas as pd\n",
        "import numpy as np\n",
        "import scipy\n",
        "import matplotlib.pyplot as plt\n",
        "import matplotlib.dates as mdates\n",
        "from matplotlib.dates import DateFormatter\n",
        "import seaborn as sns\n",
        "from sklearn import linear_model\n",
        "from sklearn import metrics\n",
        "import math\n",
        "import statsmodels.api as sm\n",
        "from sklearn.linear_model import LogisticRegression\n",
        "from sklearn.model_selection import GridSearchCV\n",
        "from sklearn.model_selection import KFold\n",
        "from sklearn.metrics import accuracy_score\n",
        "from sklearn.metrics import roc_auc_score\n",
        "from sklearn.metrics import roc_curve\n",
        "from sklearn.metrics import classification_report\n",
        "from sklearn.metrics import f1_score\n",
        "from sklearn.model_selection import train_test_split\n",
        "import glob\n",
        "from google.colab import drive\n",
        "from google.colab import files\n",
        "import warnings\n",
        "\n",
        "drive.mount('/content/drive')"
      ],
      "execution_count": 2,
      "outputs": [
        {
          "output_type": "stream",
          "name": "stdout",
          "text": [
            "Mounted at /content/drive\n"
          ]
        }
      ]
    },
    {
      "cell_type": "markdown",
      "metadata": {
        "id": "5jdwsH2s6m9X"
      },
      "source": [
        "##**Load data**"
      ]
    },
    {
      "cell_type": "code",
      "metadata": {
        "id": "omiKPHgetcIF",
        "outputId": "c57b41f4-9dd4-44c0-ac24-91f76f6fe056",
        "colab": {
          "base_uri": "https://localhost:8080/"
        }
      },
      "source": [
        "list_files = glob.glob('/content/drive/My Drive/smartphone/***.txt')\n",
        "print(list_files)\n",
        "print(len(list_files))\n",
        "data = {}\n",
        "for i in range(0,4):\n",
        "  data[f'{list_files[i][35:-4]}'] = tuple([pd.read_csv(list_files[i],delim_whitespace=True, header=None)])\n",
        "'''The numbers in list_files[i] index --> '[35:-4]' represent the number of characters from the beginning of the directory\n",
        "to the beginning of the filename (35) and the characters number of the file extension (-4) i.e.: .txt '''\n",
        "\n",
        "X_train, X_test, y_train, y_test = data['X_train'][0],data['X_test'][0],data['y_train'][0],data['y_test'][0]"
      ],
      "execution_count": 3,
      "outputs": [
        {
          "output_type": "stream",
          "name": "stdout",
          "text": [
            "['/content/drive/My Drive/smartphone/X_test.txt', '/content/drive/My Drive/smartphone/X_train.txt', '/content/drive/My Drive/smartphone/y_train.txt', '/content/drive/My Drive/smartphone/y_test.txt']\n",
            "4\n"
          ]
        }
      ]
    },
    {
      "cell_type": "code",
      "metadata": {
        "id": "V4av7yq_lkfj"
      },
      "source": [
        "#Creating dict\n",
        "activity = {1 :'Caminhada',2 :'Subindo escadas',3 :'Descendo escadas',4 :'Sentado',5 :'Em pé',6 :'Deitado'}"
      ],
      "execution_count": 4,
      "outputs": []
    },
    {
      "cell_type": "markdown",
      "metadata": {
        "id": "RAHTPfGUg02s"
      },
      "source": [
        "###**Concatenate values**"
      ]
    },
    {
      "cell_type": "code",
      "metadata": {
        "id": "RwvQCESPg0SG"
      },
      "source": [
        "#Rename column\n",
        "y_train = y_train.rename(columns={0: \"label\"})\n",
        "#concatenate\n",
        "train = pd.concat([X_train,y_train],axis=1)"
      ],
      "execution_count": 5,
      "outputs": []
    },
    {
      "cell_type": "markdown",
      "metadata": {
        "id": "KLb7EiEfvX_m"
      },
      "source": [
        "###**Balance measure**"
      ]
    },
    {
      "cell_type": "code",
      "metadata": {
        "id": "qZi3zzz1fAMg",
        "outputId": "785477cb-203e-4906-b164-d8a919171a90",
        "colab": {
          "base_uri": "https://localhost:8080/",
          "height": 467
        }
      },
      "source": [
        "y_train['label'].value_counts().plot(kind='bar')\n",
        "plt.xlabel('Activity labels')\n",
        "plt.ylabel('Counts')\n",
        "plt.title('Balance of y labels')\n",
        "plt.show()"
      ],
      "execution_count": 6,
      "outputs": [
        {
          "output_type": "display_data",
          "data": {
            "text/plain": [
              "<Figure size 640x480 with 1 Axes>"
            ],
            "image/png": "[encoded data removed]"
          },
          "metadata": {}
        }
      ]
    },
    {
      "cell_type": "markdown",
      "source": [
        "classes are unbalanced\n"
      ],
      "metadata": {
        "id": "5JW2T1pfdrJs"
      }
    },
    {
      "cell_type": "markdown",
      "metadata": {
        "id": "Np7Z-JKIvsyU"
      },
      "source": [
        "###**Oversamplimg data with SMOTE**\n",
        "\n",
        "SMOTE (Synthetic Minority Oversampling Technique)\n",
        "\n",
        "Firstly, we observed the distribution of labels in the training samples and concluded that the dataset was imbalanced, which could potentially impact the model's performance. To address this issue, we employed the Synthetic Minority Oversampling Technique (SMOTE) to oversample the data and achieve a balanced set. The technique works by creating synthetic samples for classes with fewer samples, randomly choosing one of the k nearest neighbors to generate similar, adjusted samples. We used 5 nearest neighbors (standard parameter) as the parameter k, resulting in a balanced training set with 8442 samples, with 1407 samples for each class.\n"
      ]
    },
    {
      "cell_type": "code",
      "metadata": {
        "id": "cTCN9Q6MktPh",
        "outputId": "58ca05e0-aada-4c97-f073-adfa6b521ade",
        "colab": {
          "base_uri": "https://localhost:8080/",
          "height": 722
        }
      },
      "source": [
        "from imblearn.over_sampling import SMOTE\n",
        "warnings.filterwarnings('ignore') #Dont show deprecated warnings from colab\n",
        "os = SMOTE(random_state=0)\n",
        "\n",
        "columns = X_train.columns\n",
        "\n",
        "os_X_train,os_y_train = os.fit_resample(X_train, y_train)\n",
        "os_X_train = pd.DataFrame(data=os_X_train,columns=columns )\n",
        "os_y_train = pd.DataFrame(data=os_y_train,columns=['label'])\n",
        "# we can Check the numbers of our data\n",
        "print(\"\\nlength of original data is \",len(X_train))\n",
        "print(\"length of oversampled data is \",len(os_X_train),'\\n')\n",
        "for i in range(1,7):\n",
        "  print(f\"Number of samples in {activity[i]}\",len(os_y_train[os_y_train['label']==i]))\n",
        "  print(f\"Proportion of samples in {activity[i]}\",len(os_y_train[os_y_train['label']==i])/len(os_X_train))\n",
        "ax = os_y_train['label'].value_counts().plot(kind='bar',alpha=0.5,color = 'royalblue',label='oversampled data')\n",
        "y_train['label'].value_counts().plot(kind='bar',alpha=0.5,color = 'darkorange',ax=ax,label='original data')\n",
        "plt.xlabel('Activity labels')\n",
        "plt.ylabel('Counts')\n",
        "plt.legend(loc='center')\n",
        "plt.show()\n"
      ],
      "execution_count": 8,
      "outputs": [
        {
          "output_type": "stream",
          "name": "stdout",
          "text": [
            "\n",
            "length of original data is  7352\n",
            "length of oversampled data is  8442 \n",
            "\n",
            "Number of samples in Caminhada 1407\n",
            "Proportion of samples in Caminhada 0.16666666666666666\n",
            "Number of samples in Subindo escadas 1407\n",
            "Proportion of samples in Subindo escadas 0.16666666666666666\n",
            "Number of samples in Descendo escadas 1407\n",
            "Proportion of samples in Descendo escadas 0.16666666666666666\n",
            "Number of samples in Sentado 1407\n",
            "Proportion of samples in Sentado 0.16666666666666666\n",
            "Number of samples in Em pé 1407\n",
            "Proportion of samples in Em pé 0.16666666666666666\n",
            "Number of samples in Deitado 1407\n",
            "Proportion of samples in Deitado 0.16666666666666666\n"
          ]
        },
        {
          "output_type": "display_data",
          "data": {
            "text/plain": [
              "<Figure size 640x480 with 1 Axes>"
            ],
            "image/png": "[encoded data removed]"
          },
          "metadata": {}
        }
      ]
    },
    {
      "cell_type": "code",
      "metadata": {
        "id": "tqrmcGcww21D",
        "outputId": "ec45d9bc-41d9-46c1-d969-fdd1818e3c63",
        "colab": {
          "base_uri": "https://localhost:8080/",
          "height": 300
        }
      },
      "source": [
        "desc = os_X_train.describe() #variables summary\n",
        "desct = desc.transpose() #transpose to check all the summaries\n",
        "desct.describe() #summary's summary to check if data is normalized\n"
      ],
      "execution_count": 9,
      "outputs": [
        {
          "output_type": "execute_result",
          "data": {
            "text/plain": [
              "        count        mean         std         min         25%         50%  \\\n",
              "count   561.0  561.000000  561.000000  561.000000  561.000000  561.000000   \n",
              "mean   8442.0   -0.492352    0.286254   -0.990303   -0.720630   -0.529901   \n",
              "std       0.0    0.422575    0.136885    0.050292    0.418278    0.481217   \n",
              "min    8442.0   -0.982010    0.039070   -1.000000   -1.000000   -1.000000   \n",
              "25%    8442.0   -0.850043    0.192787   -1.000000   -0.999691   -0.958604   \n",
              "50%    8442.0   -0.624464    0.268341   -1.000000   -0.985230   -0.732105   \n",
              "75%    8442.0   -0.097370    0.363660   -1.000000   -0.438337   -0.101225   \n",
              "max    8442.0    0.812808    0.758963   -0.493874    0.832975    0.927383   \n",
              "\n",
              "              75%         max  \n",
              "count  561.000000  561.000000  \n",
              "mean    -0.303933    0.978355  \n",
              "std      0.505940    0.069234  \n",
              "min     -1.000000    0.465197  \n",
              "25%     -0.769231    1.000000  \n",
              "50%     -0.370527    1.000000  \n",
              "75%      0.102433    1.000000  \n",
              "max      0.993492    1.000000  "
            ],
            "text/html": [
              "\n",
              "  <div id=\"df-3bc793fd-e334-4f01-bdd2-878fc44adb7d\" class=\"colab-df-container\">\n",
              "    <div>\n",
              "<style scoped>\n",
              "    .dataframe tbody tr th:only-of-type {\n",
              "        vertical-align: middle;\n",
              "    }\n",
              "\n",
              "    .dataframe tbody tr th {\n",
              "        vertical-align: top;\n",
              "    }\n",
              "\n",
              "    .dataframe thead th {\n",
              "        text-align: right;\n",
              "    }\n",
              "</style>\n",
              "<table border=\"1\" class=\"dataframe\">\n",
              "  <thead>\n",
              "    <tr style=\"text-align: right;\">\n",
              "      <th></th>\n",
              "      <th>count</th>\n",
              "      <th>mean</th>\n",
              "      <th>std</th>\n",
              "      <th>min</th>\n",
              "      <th>25%</th>\n",
              "      <th>50%</th>\n",
              "      <th>75%</th>\n",
              "      <th>max</th>\n",
              "    </tr>\n",
              "  </thead>\n",
              "  <tbody>\n",
              "    <tr>\n",
              "      <th>count</th>\n",
              "      <td>561.0</td>\n",
              "      <td>561.000000</td>\n",
              "      <td>561.000000</td>\n",
              "      <td>561.000000</td>\n",
              "      <td>561.000000</td>\n",
              "      <td>561.000000</td>\n",
              "      <td>561.000000</td>\n",
              "      <td>561.000000</td>\n",
              "    </tr>\n",
              "    <tr>\n",
              "      <th>mean</th>\n",
              "      <td>8442.0</td>\n",
              "      <td>-0.492352</td>\n",
              "      <td>0.286254</td>\n",
              "      <td>-0.990303</td>\n",
              "      <td>-0.720630</td>\n",
              "      <td>-0.529901</td>\n",
              "      <td>-0.303933</td>\n",
              "      <td>0.978355</td>\n",
              "    </tr>\n",
              "    <tr>\n",
              "      <th>std</th>\n",
              "      <td>0.0</td>\n",
              "      <td>0.422575</td>\n",
              "      <td>0.136885</td>\n",
              "      <td>0.050292</td>\n",
              "      <td>0.418278</td>\n",
              "      <td>0.481217</td>\n",
              "      <td>0.505940</td>\n",
              "      <td>0.069234</td>\n",
              "    </tr>\n",
              "    <tr>\n",
              "      <th>min</th>\n",
              "      <td>8442.0</td>\n",
              "      <td>-0.982010</td>\n",
              "      <td>0.039070</td>\n",
              "      <td>-1.000000</td>\n",
              "      <td>-1.000000</td>\n",
              "      <td>-1.000000</td>\n",
              "      <td>-1.000000</td>\n",
              "      <td>0.465197</td>\n",
              "    </tr>\n",
              "    <tr>\n",
              "      <th>25%</th>\n",
              "      <td>8442.0</td>\n",
              "      <td>-0.850043</td>\n",
              "      <td>0.192787</td>\n",
              "      <td>-1.000000</td>\n",
              "      <td>-0.999691</td>\n",
              "      <td>-0.958604</td>\n",
              "      <td>-0.769231</td>\n",
              "      <td>1.000000</td>\n",
              "    </tr>\n",
              "    <tr>\n",
              "      <th>50%</th>\n",
              "      <td>8442.0</td>\n",
              "      <td>-0.624464</td>\n",
              "      <td>0.268341</td>\n",
              "      <td>-1.000000</td>\n",
              "      <td>-0.985230</td>\n",
              "      <td>-0.732105</td>\n",
              "      <td>-0.370527</td>\n",
              "      <td>1.000000</td>\n",
              "    </tr>\n",
              "    <tr>\n",
              "      <th>75%</th>\n",
              "      <td>8442.0</td>\n",
              "      <td>-0.097370</td>\n",
              "      <td>0.363660</td>\n",
              "      <td>-1.000000</td>\n",
              "      <td>-0.438337</td>\n",
              "      <td>-0.101225</td>\n",
              "      <td>0.102433</td>\n",
              "      <td>1.000000</td>\n",
              "    </tr>\n",
              "    <tr>\n",
              "      <th>max</th>\n",
              "      <td>8442.0</td>\n",
              "      <td>0.812808</td>\n",
              "      <td>0.758963</td>\n",
              "      <td>-0.493874</td>\n",
              "      <td>0.832975</td>\n",
              "      <td>0.927383</td>\n",
              "      <td>0.993492</td>\n",
              "      <td>1.000000</td>\n",
              "    </tr>\n",
              "  </tbody>\n",
              "</table>\n",
              "</div>\n",
              "    <div class=\"colab-df-buttons\">\n",
              "\n",
              "  <div class=\"colab-df-container\">\n",
              "    <button class=\"colab-df-convert\" onclick=\"convertToInteractive('df-3bc793fd-e334-4f01-bdd2-878fc44adb7d')\"\n",
              "            title=\"Convert this dataframe to an interactive table.\"\n",
              "            style=\"display:none;\">\n",
              "\n",
              "  <svg xmlns=\"http://www.w3.org/2000/svg\" height=\"24px\" viewBox=\"0 -960 960 960\">\n",
              "    <path d=\"M120-120v-720h720v720H120Zm60-500h600v-160H180v160Zm220 220h160v-160H400v160Zm0 220h160v-160H400v160ZM180-400h160v-160H180v160Zm440 0h160v-160H620v160ZM180-180h160v-160H180v160Zm440 0h160v-160H620v160Z\"/>\n",
              "  </svg>\n",
              "    </button>\n",
              "\n",
              "  <style>\n",
              "    .colab-df-container {\n",
              "      display:flex;\n",
              "      gap: 12px;\n",
              "    }\n",
              "\n",
              "    .colab-df-convert {\n",
              "      background-color: #E8F0FE;\n",
              "      border: none;\n",
              "      border-radius: 50%;\n",
              "      cursor: pointer;\n",
              "      display: none;\n",
              "      fill: #1967D2;\n",
              "      height: 32px;\n",
              "      padding: 0 0 0 0;\n",
              "      width: 32px;\n",
              "    }\n",
              "\n",
              "    .colab-df-convert:hover {\n",
              "      background-color: #E2EBFA;\n",
              "      box-shadow: 0px 1px 2px rgba(60, 64, 67, 0.3), 0px 1px 3px 1px rgba(60, 64, 67, 0.15);\n",
              "      fill: #174EA6;\n",
              "    }\n",
              "\n",
              "    .colab-df-buttons div {\n",
              "      margin-bottom: 4px;\n",
              "    }\n",
              "\n",
              "    [theme=dark] .colab-df-convert {\n",
              "      background-color: #3B4455;\n",
              "      fill: #D2E3FC;\n",
              "    }\n",
              "\n",
              "    [theme=dark] .colab-df-convert:hover {\n",
              "      background-color: #434B5C;\n",
              "      box-shadow: 0px 1px 3px 1px rgba(0, 0, 0, 0.15);\n",
              "      filter: drop-shadow(0px 1px 2px rgba(0, 0, 0, 0.3));\n",
              "      fill: #FFFFFF;\n",
              "    }\n",
              "  </style>\n",
              "\n",
              "    <script>\n",
              "      const buttonEl =\n",
              "        document.querySelector('#df-3bc793fd-e334-4f01-bdd2-878fc44adb7d button.colab-df-convert');\n",
              "      buttonEl.style.display =\n",
              "        google.colab.kernel.accessAllowed ? 'block' : 'none';\n",
              "\n",
              "      async function convertToInteractive(key) {\n",
              "        const element = document.querySelector('#df-3bc793fd-e334-4f01-bdd2-878fc44adb7d');\n",
              "        const dataTable =\n",
              "          await google.colab.kernel.invokeFunction('convertToInteractive',\n",
              "                                                    [key], {});\n",
              "        if (!dataTable) return;\n",
              "\n",
              "        const docLinkHtml = 'Like what you see? Visit the ' +\n",
              "          '<a target=\"_blank\" href=https://colab.research.google.com/notebooks/data_table.ipynb>data table notebook</a>'\n",
              "          + ' to learn more about interactive tables.';\n",
              "        element.innerHTML = '';\n",
              "        dataTable['output_type'] = 'display_data';\n",
              "        await google.colab.output.renderOutput(dataTable, element);\n",
              "        const docLink = document.createElement('div');\n",
              "        docLink.innerHTML = docLinkHtml;\n",
              "        element.appendChild(docLink);\n",
              "      }\n",
              "    </script>\n",
              "  </div>\n",
              "\n",
              "\n",
              "<div id=\"df-33c4b6c2-f47c-40ab-8887-2ff8d7ec8adc\">\n",
              "  <button class=\"colab-df-quickchart\" onclick=\"quickchart('df-33c4b6c2-f47c-40ab-8887-2ff8d7ec8adc')\"\n",
              "            title=\"Suggest charts\"\n",
              "            style=\"display:none;\">\n",
              "\n",
              "<svg xmlns=\"http://www.w3.org/2000/svg\" height=\"24px\"viewBox=\"0 0 24 24\"\n",
              "     width=\"24px\">\n",
              "    <g>\n",
              "        <path d=\"M19 3H5c-1.1 0-2 .9-2 2v14c0 1.1.9 2 2 2h14c1.1 0 2-.9 2-2V5c0-1.1-.9-2-2-2zM9 17H7v-7h2v7zm4 0h-2V7h2v10zm4 0h-2v-4h2v4z\"/>\n",
              "    </g>\n",
              "</svg>\n",
              "  </button>\n",
              "\n",
              "<style>\n",
              "  .colab-df-quickchart {\n",
              "      --bg-color: #E8F0FE;\n",
              "      --fill-color: #1967D2;\n",
              "      --hover-bg-color: #E2EBFA;\n",
              "      --hover-fill-color: #174EA6;\n",
              "      --disabled-fill-color: #AAA;\n",
              "      --disabled-bg-color: #DDD;\n",
              "  }\n",
              "\n",
              "  [theme=dark] .colab-df-quickchart {\n",
              "      --bg-color: #3B4455;\n",
              "      --fill-color: #D2E3FC;\n",
              "      --hover-bg-color: #434B5C;\n",
              "      --hover-fill-color: #FFFFFF;\n",
              "      --disabled-bg-color: #3B4455;\n",
              "      --disabled-fill-color: #666;\n",
              "  }\n",
              "\n",
              "  .colab-df-quickchart {\n",
              "    background-color: var(--bg-color);\n",
              "    border: none;\n",
              "    border-radius: 50%;\n",
              "    cursor: pointer;\n",
              "    display: none;\n",
              "    fill: var(--fill-color);\n",
              "    height: 32px;\n",
              "    padding: 0;\n",
              "    width: 32px;\n",
              "  }\n",
              "\n",
              "  .colab-df-quickchart:hover {\n",
              "    background-color: var(--hover-bg-color);\n",
              "    box-shadow: 0 1px 2px rgba(60, 64, 67, 0.3), 0 1px 3px 1px rgba(60, 64, 67, 0.15);\n",
              "    fill: var(--button-hover-fill-color);\n",
              "  }\n",
              "\n",
              "  .colab-df-quickchart-complete:disabled,\n",
              "  .colab-df-quickchart-complete:disabled:hover {\n",
              "    background-color: var(--disabled-bg-color);\n",
              "    fill: var(--disabled-fill-color);\n",
              "    box-shadow: none;\n",
              "  }\n",
              "\n",
              "  .colab-df-spinner {\n",
              "    border: 2px solid var(--fill-color);\n",
              "    border-color: transparent;\n",
              "    border-bottom-color: var(--fill-color);\n",
              "    animation:\n",
              "      spin 1s steps(1) infinite;\n",
              "  }\n",
              "\n",
              "  @keyframes spin {\n",
              "    0% {\n",
              "      border-color: transparent;\n",
              "      border-bottom-color: var(--fill-color);\n",
              "      border-left-color: var(--fill-color);\n",
              "    }\n",
              "    20% {\n",
              "      border-color: transparent;\n",
              "      border-left-color: var(--fill-color);\n",
              "      border-top-color: var(--fill-color);\n",
              "    }\n",
              "    30% {\n",
              "      border-color: transparent;\n",
              "      border-left-color: var(--fill-color);\n",
              "      border-top-color: var(--fill-color);\n",
              "      border-right-color: var(--fill-color);\n",
              "    }\n",
              "    40% {\n",
              "      border-color: transparent;\n",
              "      border-right-color: var(--fill-color);\n",
              "      border-top-color: var(--fill-color);\n",
              "    }\n",
              "    60% {\n",
              "      border-color: transparent;\n",
              "      border-right-color: var(--fill-color);\n",
              "    }\n",
              "    80% {\n",
              "      border-color: transparent;\n",
              "      border-right-color: var(--fill-color);\n",
              "      border-bottom-color: var(--fill-color);\n",
              "    }\n",
              "    90% {\n",
              "      border-color: transparent;\n",
              "      border-bottom-color: var(--fill-color);\n",
              "    }\n",
              "  }\n",
              "</style>\n",
              "\n",
              "  <script>\n",
              "    async function quickchart(key) {\n",
              "      const quickchartButtonEl =\n",
              "        document.querySelector('#' + key + ' button');\n",
              "      quickchartButtonEl.disabled = true;  // To prevent multiple clicks.\n",
              "      quickchartButtonEl.classList.add('colab-df-spinner');\n",
              "      try {\n",
              "        const charts = await google.colab.kernel.invokeFunction(\n",
              "            'suggestCharts', [key], {});\n",
              "      } catch (error) {\n",
              "        console.error('Error during call to suggestCharts:', error);\n",
              "      }\n",
              "      quickchartButtonEl.classList.remove('colab-df-spinner');\n",
              "      quickchartButtonEl.classList.add('colab-df-quickchart-complete');\n",
              "    }\n",
              "    (() => {\n",
              "      let quickchartButtonEl =\n",
              "        document.querySelector('#df-33c4b6c2-f47c-40ab-8887-2ff8d7ec8adc button');\n",
              "      quickchartButtonEl.style.display =\n",
              "        google.colab.kernel.accessAllowed ? 'block' : 'none';\n",
              "    })();\n",
              "  </script>\n",
              "</div>\n",
              "    </div>\n",
              "  </div>\n"
            ]
          },
          "metadata": {},
          "execution_count": 9
        }
      ]
    },
    {
      "cell_type": "markdown",
      "metadata": {
        "id": "UUUY5IBW70OJ"
      },
      "source": [
        "The mean of the minimums is -0.99, and the 1st, 2nd, and 3rd quartiles are -1.\n",
        "\n",
        "The mean of the maximums is 0.97, and the 1st, 2nd, and 3rd quartiles are 1.\n",
        "\n",
        "**We can conclude that the variables are alrady normalized from -1 to 1.**\n"
      ]
    },
    {
      "cell_type": "code",
      "metadata": {
        "id": "WdfRe6ceRJsR"
      },
      "source": [
        "#redefine variables\n",
        "X_train = os_X_train\n",
        "y_train = os_y_train"
      ],
      "execution_count": 10,
      "outputs": []
    },
    {
      "cell_type": "markdown",
      "metadata": {
        "id": "APbjmyESF47R"
      },
      "source": [
        "##**Multiclass Logistic Regression fit**\n",
        "\n",
        "We trained a logistic regression classifier with L2 penalty using 5-fold cross-validation. In order to improve our classifier, we conducted a search for the best parameters through the GridSearch function, where we tested the hyperparameter C and the training algorithms \"one-vs-rest\" and \"multinomial.\"\n"
      ]
    },
    {
      "cell_type": "code",
      "metadata": {
        "id": "zwLkg1XT8fR2",
        "outputId": "eac0809c-ad5e-4d82-d7a2-d3b45a3ed27b",
        "colab": {
          "base_uri": "https://localhost:8080/"
        }
      },
      "source": [
        "model = LogisticRegression(penalty='l2')\n",
        "folds = KFold(5,random_state = 5, shuffle=True)\n",
        "\n",
        "# define grid\n",
        "grid = dict()\n",
        "grid['C'] = np.logspace(-4, 4, 20)\n",
        "grid['multi_class'] = ['ovr', 'multinomial']\n",
        "\n",
        "# define search\n",
        "search = GridSearchCV(model, grid, scoring='neg_log_loss', cv=folds)\n",
        "\n",
        "# perform the search\n",
        "results = search.fit(os_X_train, os_y_train)\n",
        "C = results.best_params_['C']\n",
        "multi = results.best_params_['multi_class']\n",
        "print('best score: ',results.best_score_)\n",
        "print('best C: ',C)\n",
        "print('best multi class: ',multi)\n",
        "\n",
        "#Fit tunned model\n",
        "model = LogisticRegression(C=4.28,multi_class='ovr',penalty='l2')\n",
        "model.fit(os_X_train, os_y_train)\n",
        "#Accuracy\n",
        "predicted_classes = model.predict(X_test)\n",
        "accuracy = accuracy_score(y_test,predicted_classes)\n",
        "f1 = f1_score(y_test,predicted_classes,average='weighted')\n",
        "print(f\"Acuracy of the tunned model:{round(accuracy*100,2)}%\")\n",
        "print(f\"F1 of the tunned model:{round(f1*100,2)}%\")"
      ],
      "execution_count": 12,
      "outputs": [
        {
          "output_type": "stream",
          "name": "stdout",
          "text": [
            "best score:  -0.04370330883995853\n",
            "best C:  11.288378916846883\n",
            "best multi class:  ovr\n",
            "Acuracy of the tunned model:96.23%\n",
            "F1 of the tunned model:96.22%\n"
          ]
        }
      ]
    },
    {
      "cell_type": "code",
      "metadata": {
        "id": "7O4A10uhU8XA",
        "outputId": "0c512afd-fc39-4ad4-a6b5-2542ff4cea63",
        "colab": {
          "base_uri": "https://localhost:8080/"
        }
      },
      "source": [
        "#Checking performance our model with classification report.\n",
        "print(classification_report(y_test,predicted_classes))"
      ],
      "execution_count": 13,
      "outputs": [
        {
          "output_type": "stream",
          "name": "stdout",
          "text": [
            "              precision    recall  f1-score   support\n",
            "\n",
            "           1       0.94      1.00      0.97       496\n",
            "           2       0.97      0.95      0.96       471\n",
            "           3       1.00      0.97      0.98       420\n",
            "           4       0.97      0.88      0.92       491\n",
            "           5       0.90      0.97      0.94       532\n",
            "           6       1.00      1.00      1.00       537\n",
            "\n",
            "    accuracy                           0.96      2947\n",
            "   macro avg       0.96      0.96      0.96      2947\n",
            "weighted avg       0.96      0.96      0.96      2947\n",
            "\n"
          ]
        }
      ]
    },
    {
      "cell_type": "code",
      "source": [
        "# creating a confusion matrix\n",
        "from sklearn.metrics import confusion_matrix\n",
        "cm = confusion_matrix(y_test, predicted_classes)\n",
        "df_cm = pd.DataFrame(cm)\n",
        "\n",
        "cm_norm = cm / cm.astype(np.float).sum(axis=1)\n",
        "df_cm_norm = pd.DataFrame(cm_norm)\n",
        "\n",
        "plt.figure(figsize=(4,4))\n",
        "sns.heatmap(df_cm, square=True, annot=True,fmt='d',cmap=plt.cm.Blues)\n",
        "plt.title(\"Confusion Matrix\",fontsize = 12)\n",
        "plt.xlabel(\"Predicated label\")\n",
        "plt.ylabel(\"True label\")\n",
        "plt.show()\n",
        "\n",
        "plt.figure(figsize=(4,4))\n",
        "sns.heatmap(df_cm_norm, square=True, fmt=\".2f\", annot=True,cmap=plt.cm.Blues)\n",
        "plt.title(\"Normalized Confusion Matrix\",fontsize = 12)\n",
        "plt.xlabel(\"Predicated label\")\n",
        "plt.ylabel(\"True label\")\n",
        "plt.show()"
      ],
      "metadata": {
        "id": "2yR1Ai2leMr_",
        "outputId": "0828fa38-ae53-4a7a-b003-ef5e291af995",
        "colab": {
          "base_uri": "https://localhost:8080/",
          "height": 704
        }
      },
      "execution_count": 28,
      "outputs": [
        {
          "output_type": "display_data",
          "data": {
            "text/plain": [
              "<Figure size 400x400 with 2 Axes>"
            ],
            "image/png": "[encoded data removed]"
          },
          "metadata": {}
        },
        {
          "output_type": "display_data",
          "data": {
            "text/plain": [
              "<Figure size 400x400 with 2 Axes>"
            ],
            "image/png": "[encoded data removed]"
          },
          "metadata": {}
        }
      ]
    },
    {
      "cell_type": "markdown",
      "metadata": {
        "id": "OFLCuDynggCh"
      },
      "source": [
        "##**KNN**\n",
        "\n",
        "KNN (k-nearest neighbours) classifier – KNN or k-nearest neighbours is the simplest classification algorithm. This classification algorithm does not depend on the structure of the data. Whenever a new example is encountered, its k nearest neighbours from the training data are examined. Distance between two examples can be the euclidean distance between their feature vectors. The majority class among the k nearest neighbours is taken to be the class for the encountered example.\n"
      ]
    },
    {
      "cell_type": "code",
      "metadata": {
        "id": "ODdexj7vgsIh"
      },
      "source": [
        "# training a KNN classifier\n",
        "from sklearn.neighbors import KNeighborsClassifier\n",
        "\n",
        "k = []\n",
        "accuracy =[]\n",
        "f1 = []\n",
        "\n",
        "for n in range (1,31):\n",
        "  k.append(n)\n",
        "  knn = KNeighborsClassifier(n_neighbors = n).fit(X_train, y_train)\n",
        "  predicted_knn = knn.predict(X_test)\n",
        "\n",
        "  # accuracy on X_test\n",
        "  accuracy.append(accuracy_score(y_test,predicted_knn))\n",
        "  f1.append(f1_score(y_test,predicted_knn,average='weighted'))"
      ],
      "execution_count": 29,
      "outputs": []
    },
    {
      "cell_type": "code",
      "metadata": {
        "id": "5Pv4dCFQhqWJ",
        "outputId": "697c891b-3b88-4fb4-998b-3b7de2d39bb9",
        "colab": {
          "base_uri": "https://localhost:8080/",
          "height": 206
        }
      },
      "source": [
        "table = pd.DataFrame()\n",
        "table['k'] = k\n",
        "table['accuracy'] = accuracy\n",
        "table['F1'] = f1\n",
        "table.head()"
      ],
      "execution_count": 30,
      "outputs": [
        {
          "output_type": "execute_result",
          "data": {
            "text/plain": [
              "   k  accuracy        F1\n",
              "0  1  0.874109  0.873867\n",
              "1  2  0.867662  0.866760\n",
              "2  3  0.890397  0.890035\n",
              "3  4  0.888361  0.887824\n",
              "4  5  0.899220  0.898725"
            ],
            "text/html": [
              "\n",
              "  <div id=\"df-f3a13435-0d6e-425d-9ab0-12be7221087b\" class=\"colab-df-container\">\n",
              "    <div>\n",
              "<style scoped>\n",
              "    .dataframe tbody tr th:only-of-type {\n",
              "        vertical-align: middle;\n",
              "    }\n",
              "\n",
              "    .dataframe tbody tr th {\n",
              "        vertical-align: top;\n",
              "    }\n",
              "\n",
              "    .dataframe thead th {\n",
              "        text-align: right;\n",
              "    }\n",
              "</style>\n",
              "<table border=\"1\" class=\"dataframe\">\n",
              "  <thead>\n",
              "    <tr style=\"text-align: right;\">\n",
              "      <th></th>\n",
              "      <th>k</th>\n",
              "      <th>accuracy</th>\n",
              "      <th>F1</th>\n",
              "    </tr>\n",
              "  </thead>\n",
              "  <tbody>\n",
              "    <tr>\n",
              "      <th>0</th>\n",
              "      <td>1</td>\n",
              "      <td>0.874109</td>\n",
              "      <td>0.873867</td>\n",
              "    </tr>\n",
              "    <tr>\n",
              "      <th>1</th>\n",
              "      <td>2</td>\n",
              "      <td>0.867662</td>\n",
              "      <td>0.866760</td>\n",
              "    </tr>\n",
              "    <tr>\n",
              "      <th>2</th>\n",
              "      <td>3</td>\n",
              "      <td>0.890397</td>\n",
              "      <td>0.890035</td>\n",
              "    </tr>\n",
              "    <tr>\n",
              "      <th>3</th>\n",
              "      <td>4</td>\n",
              "      <td>0.888361</td>\n",
              "      <td>0.887824</td>\n",
              "    </tr>\n",
              "    <tr>\n",
              "      <th>4</th>\n",
              "      <td>5</td>\n",
              "      <td>0.899220</td>\n",
              "      <td>0.898725</td>\n",
              "    </tr>\n",
              "  </tbody>\n",
              "</table>\n",
              "</div>\n",
              "    <div class=\"colab-df-buttons\">\n",
              "\n",
              "  <div class=\"colab-df-container\">\n",
              "    <button class=\"colab-df-convert\" onclick=\"convertToInteractive('df-f3a13435-0d6e-425d-9ab0-12be7221087b')\"\n",
              "            title=\"Convert this dataframe to an interactive table.\"\n",
              "            style=\"display:none;\">\n",
              "\n",
              "  <svg xmlns=\"http://www.w3.org/2000/svg\" height=\"24px\" viewBox=\"0 -960 960 960\">\n",
              "    <path d=\"M120-120v-720h720v720H120Zm60-500h600v-160H180v160Zm220 220h160v-160H400v160Zm0 220h160v-160H400v160ZM180-400h160v-160H180v160Zm440 0h160v-160H620v160ZM180-180h160v-160H180v160Zm440 0h160v-160H620v160Z\"/>\n",
              "  </svg>\n",
              "    </button>\n",
              "\n",
              "  <style>\n",
              "    .colab-df-container {\n",
              "      display:flex;\n",
              "      gap: 12px;\n",
              "    }\n",
              "\n",
              "    .colab-df-convert {\n",
              "      background-color: #E8F0FE;\n",
              "      border: none;\n",
              "      border-radius: 50%;\n",
              "      cursor: pointer;\n",
              "      display: none;\n",
              "      fill: #1967D2;\n",
              "      height: 32px;\n",
              "      padding: 0 0 0 0;\n",
              "      width: 32px;\n",
              "    }\n",
              "\n",
              "    .colab-df-convert:hover {\n",
              "      background-color: #E2EBFA;\n",
              "      box-shadow: 0px 1px 2px rgba(60, 64, 67, 0.3), 0px 1px 3px 1px rgba(60, 64, 67, 0.15);\n",
              "      fill: #174EA6;\n",
              "    }\n",
              "\n",
              "    .colab-df-buttons div {\n",
              "      margin-bottom: 4px;\n",
              "    }\n",
              "\n",
              "    [theme=dark] .colab-df-convert {\n",
              "      background-color: #3B4455;\n",
              "      fill: #D2E3FC;\n",
              "    }\n",
              "\n",
              "    [theme=dark] .colab-df-convert:hover {\n",
              "      background-color: #434B5C;\n",
              "      box-shadow: 0px 1px 3px 1px rgba(0, 0, 0, 0.15);\n",
              "      filter: drop-shadow(0px 1px 2px rgba(0, 0, 0, 0.3));\n",
              "      fill: #FFFFFF;\n",
              "    }\n",
              "  </style>\n",
              "\n",
              "    <script>\n",
              "      const buttonEl =\n",
              "        document.querySelector('#df-f3a13435-0d6e-425d-9ab0-12be7221087b button.colab-df-convert');\n",
              "      buttonEl.style.display =\n",
              "        google.colab.kernel.accessAllowed ? 'block' : 'none';\n",
              "\n",
              "      async function convertToInteractive(key) {\n",
              "        const element = document.querySelector('#df-f3a13435-0d6e-425d-9ab0-12be7221087b');\n",
              "        const dataTable =\n",
              "          await google.colab.kernel.invokeFunction('convertToInteractive',\n",
              "                                                    [key], {});\n",
              "        if (!dataTable) return;\n",
              "\n",
              "        const docLinkHtml = 'Like what you see? Visit the ' +\n",
              "          '<a target=\"_blank\" href=https://colab.research.google.com/notebooks/data_table.ipynb>data table notebook</a>'\n",
              "          + ' to learn more about interactive tables.';\n",
              "        element.innerHTML = '';\n",
              "        dataTable['output_type'] = 'display_data';\n",
              "        await google.colab.output.renderOutput(dataTable, element);\n",
              "        const docLink = document.createElement('div');\n",
              "        docLink.innerHTML = docLinkHtml;\n",
              "        element.appendChild(docLink);\n",
              "      }\n",
              "    </script>\n",
              "  </div>\n",
              "\n",
              "\n",
              "<div id=\"df-a4701c57-eb11-4287-8c81-4021b50171eb\">\n",
              "  <button class=\"colab-df-quickchart\" onclick=\"quickchart('df-a4701c57-eb11-4287-8c81-4021b50171eb')\"\n",
              "            title=\"Suggest charts\"\n",
              "            style=\"display:none;\">\n",
              "\n",
              "<svg xmlns=\"http://www.w3.org/2000/svg\" height=\"24px\"viewBox=\"0 0 24 24\"\n",
              "     width=\"24px\">\n",
              "    <g>\n",
              "        <path d=\"M19 3H5c-1.1 0-2 .9-2 2v14c0 1.1.9 2 2 2h14c1.1 0 2-.9 2-2V5c0-1.1-.9-2-2-2zM9 17H7v-7h2v7zm4 0h-2V7h2v10zm4 0h-2v-4h2v4z\"/>\n",
              "    </g>\n",
              "</svg>\n",
              "  </button>\n",
              "\n",
              "<style>\n",
              "  .colab-df-quickchart {\n",
              "      --bg-color: #E8F0FE;\n",
              "      --fill-color: #1967D2;\n",
              "      --hover-bg-color: #E2EBFA;\n",
              "      --hover-fill-color: #174EA6;\n",
              "      --disabled-fill-color: #AAA;\n",
              "      --disabled-bg-color: #DDD;\n",
              "  }\n",
              "\n",
              "  [theme=dark] .colab-df-quickchart {\n",
              "      --bg-color: #3B4455;\n",
              "      --fill-color: #D2E3FC;\n",
              "      --hover-bg-color: #434B5C;\n",
              "      --hover-fill-color: #FFFFFF;\n",
              "      --disabled-bg-color: #3B4455;\n",
              "      --disabled-fill-color: #666;\n",
              "  }\n",
              "\n",
              "  .colab-df-quickchart {\n",
              "    background-color: var(--bg-color);\n",
              "    border: none;\n",
              "    border-radius: 50%;\n",
              "    cursor: pointer;\n",
              "    display: none;\n",
              "    fill: var(--fill-color);\n",
              "    height: 32px;\n",
              "    padding: 0;\n",
              "    width: 32px;\n",
              "  }\n",
              "\n",
              "  .colab-df-quickchart:hover {\n",
              "    background-color: var(--hover-bg-color);\n",
              "    box-shadow: 0 1px 2px rgba(60, 64, 67, 0.3), 0 1px 3px 1px rgba(60, 64, 67, 0.15);\n",
              "    fill: var(--button-hover-fill-color);\n",
              "  }\n",
              "\n",
              "  .colab-df-quickchart-complete:disabled,\n",
              "  .colab-df-quickchart-complete:disabled:hover {\n",
              "    background-color: var(--disabled-bg-color);\n",
              "    fill: var(--disabled-fill-color);\n",
              "    box-shadow: none;\n",
              "  }\n",
              "\n",
              "  .colab-df-spinner {\n",
              "    border: 2px solid var(--fill-color);\n",
              "    border-color: transparent;\n",
              "    border-bottom-color: var(--fill-color);\n",
              "    animation:\n",
              "      spin 1s steps(1) infinite;\n",
              "  }\n",
              "\n",
              "  @keyframes spin {\n",
              "    0% {\n",
              "      border-color: transparent;\n",
              "      border-bottom-color: var(--fill-color);\n",
              "      border-left-color: var(--fill-color);\n",
              "    }\n",
              "    20% {\n",
              "      border-color: transparent;\n",
              "      border-left-color: var(--fill-color);\n",
              "      border-top-color: var(--fill-color);\n",
              "    }\n",
              "    30% {\n",
              "      border-color: transparent;\n",
              "      border-left-color: var(--fill-color);\n",
              "      border-top-color: var(--fill-color);\n",
              "      border-right-color: var(--fill-color);\n",
              "    }\n",
              "    40% {\n",
              "      border-color: transparent;\n",
              "      border-right-color: var(--fill-color);\n",
              "      border-top-color: var(--fill-color);\n",
              "    }\n",
              "    60% {\n",
              "      border-color: transparent;\n",
              "      border-right-color: var(--fill-color);\n",
              "    }\n",
              "    80% {\n",
              "      border-color: transparent;\n",
              "      border-right-color: var(--fill-color);\n",
              "      border-bottom-color: var(--fill-color);\n",
              "    }\n",
              "    90% {\n",
              "      border-color: transparent;\n",
              "      border-bottom-color: var(--fill-color);\n",
              "    }\n",
              "  }\n",
              "</style>\n",
              "\n",
              "  <script>\n",
              "    async function quickchart(key) {\n",
              "      const quickchartButtonEl =\n",
              "        document.querySelector('#' + key + ' button');\n",
              "      quickchartButtonEl.disabled = true;  // To prevent multiple clicks.\n",
              "      quickchartButtonEl.classList.add('colab-df-spinner');\n",
              "      try {\n",
              "        const charts = await google.colab.kernel.invokeFunction(\n",
              "            'suggestCharts', [key], {});\n",
              "      } catch (error) {\n",
              "        console.error('Error during call to suggestCharts:', error);\n",
              "      }\n",
              "      quickchartButtonEl.classList.remove('colab-df-spinner');\n",
              "      quickchartButtonEl.classList.add('colab-df-quickchart-complete');\n",
              "    }\n",
              "    (() => {\n",
              "      let quickchartButtonEl =\n",
              "        document.querySelector('#df-a4701c57-eb11-4287-8c81-4021b50171eb button');\n",
              "      quickchartButtonEl.style.display =\n",
              "        google.colab.kernel.accessAllowed ? 'block' : 'none';\n",
              "    })();\n",
              "  </script>\n",
              "</div>\n",
              "    </div>\n",
              "  </div>\n"
            ]
          },
          "metadata": {},
          "execution_count": 30
        }
      ]
    },
    {
      "cell_type": "code",
      "metadata": {
        "id": "2uBxbNAqiE_9",
        "outputId": "d77319b4-b6d1-438c-a13c-be25c2f616ca",
        "colab": {
          "base_uri": "https://localhost:8080/"
        }
      },
      "source": [
        "#find best k and train classifier\n",
        "best_k_accuracy = table['k'][table['accuracy'].idxmax()]\n",
        "best_k_f1 = table['k'][table['F1'].idxmax()]\n",
        "\n",
        "#accuracy\n",
        "knn = KNeighborsClassifier(n_neighbors = best_k_accuracy,p=1).fit(X_train, y_train) #p=1 --> manhattan_distance\n",
        "predicted_knn = knn.predict(X_test)\n",
        "\n",
        "print(f\"Model accuracy for k={best_k_accuracy}: {accuracy_score(y_test,predicted_knn)}\")\n",
        "\n",
        "print(f\"Model f1 score for k={best_k_f1}: {f1_score(y_test,predicted_knn,average='weighted')}\")"
      ],
      "execution_count": 31,
      "outputs": [
        {
          "output_type": "stream",
          "name": "stdout",
          "text": [
            "Model accuracy for k=21: 0.9246691550729556\n",
            "Model f1 score for k=21: 0.9238470328267548\n"
          ]
        }
      ]
    },
    {
      "cell_type": "markdown",
      "source": [
        "We utilized the KNN model (K Nearest Neighbors) for the classification of the dataset, varying k from 1 to 30, calculating the F1 score of the model for each k. The best F1 score was achieved for k = 21 and was 0.9111. Subsequently, we performed a GridSearch to find the optimal parameter p, related to the distance metric used (Minkowski metric, Euclidean distance, or Manhattan distance). The best result was obtained using the Manhattan distance, and the F1 score of the model was then 0.9238.\n"
      ],
      "metadata": {
        "id": "DpHZZMBLito7"
      }
    },
    {
      "cell_type": "code",
      "metadata": {
        "id": "o1FPZwjhk_vY",
        "outputId": "f02270de-0a4a-40fd-8766-1d39537eb22e",
        "colab": {
          "base_uri": "https://localhost:8080/"
        }
      },
      "source": [
        "print(classification_report(y_test, predicted_knn))"
      ],
      "execution_count": 32,
      "outputs": [
        {
          "output_type": "stream",
          "name": "stdout",
          "text": [
            "              precision    recall  f1-score   support\n",
            "\n",
            "           1       0.88      0.97      0.93       496\n",
            "           2       0.88      0.93      0.90       471\n",
            "           3       0.96      0.79      0.86       420\n",
            "           4       0.96      0.86      0.91       491\n",
            "           5       0.89      0.97      0.93       532\n",
            "           6       1.00      1.00      1.00       537\n",
            "\n",
            "    accuracy                           0.92      2947\n",
            "   macro avg       0.93      0.92      0.92      2947\n",
            "weighted avg       0.93      0.92      0.92      2947\n",
            "\n"
          ]
        }
      ]
    },
    {
      "cell_type": "code",
      "source": [
        "plt.figure(figsize=(4,4))\n",
        "sns.heatmap(df_cm, square=True, annot=True,fmt='d',cmap=plt.cm.Blues)\n",
        "plt.title(\"Confusion Matrix\",fontsize = 12)\n",
        "plt.xlabel(\"Predicated label\")\n",
        "plt.ylabel(\"True label\")\n",
        "plt.show()\n",
        "\n",
        "plt.figure(figsize=(4,4))\n",
        "sns.heatmap(df_cm_norm, square=True, fmt=\".2f\", annot=True,cmap=plt.cm.Blues)\n",
        "plt.title(\"Normalized Confusion Matrix\",fontsize = 12)\n",
        "plt.xlabel(\"Predicated label\")\n",
        "plt.ylabel(\"True label\")\n",
        "plt.show()"
      ],
      "metadata": {
        "id": "Fc0t4zZiiRw3",
        "outputId": "b3a3adc6-3618-4731-eb1e-5fdfe59f83d7",
        "colab": {
          "base_uri": "https://localhost:8080/",
          "height": 704
        }
      },
      "execution_count": 34,
      "outputs": [
        {
          "output_type": "display_data",
          "data": {
            "text/plain": [
              "<Figure size 400x400 with 2 Axes>"
            ],
            "image/png": "[encoded data removed]"
          },
          "metadata": {}
        },
        {
          "output_type": "display_data",
          "data": {
            "text/plain": [
              "<Figure size 400x400 with 2 Axes>"
            ],
            "image/png": "[encoded data removed]"
          },
          "metadata": {}
        }
      ]
    },
    {
      "cell_type": "markdown",
      "source": [
        "The model implemented using logistic regression demonstrated better performance in terms of the F1 score compared to the KNN-based model (0.9622 vs 0.9238). Both models exhibited higher precision for classes 1 and 6 (\"Walking\" and \"Lying down,\" respectively). However, the regression-based model faced greater difficulty with class 4 (\"Sitting,\" TP = 88%), while the KNN-based model showed more difficulty with classes 4 and 3 (\"Sitting\" and \"Descending\n"
      ],
      "metadata": {
        "id": "fkZ7--GyjWH_"
      }
    }
  ]
}